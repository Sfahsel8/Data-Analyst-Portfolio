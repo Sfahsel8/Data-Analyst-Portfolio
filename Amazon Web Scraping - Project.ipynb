{
 "cells": [
  {
   "cell_type": "markdown",
   "id": "13072d13-01d5-4353-92e2-610942f474ac",
   "metadata": {},
   "source": [
    "# Web Scraping "
   ]
  },
  {
   "cell_type": "code",
   "execution_count": 2,
   "id": "a3fc36e5-c886-4c97-9c47-733f44c99182",
   "metadata": {},
   "outputs": [],
   "source": [
    "# import libraries\n",
    "\n",
    "from bs4 import BeautifulSoup\n",
    "import requests\n",
    "import time\n",
    "import datetime\n",
    "import smtplib\n"
   ]
  },
  {
   "cell_type": "code",
   "execution_count": 26,
   "id": "65c072b5-81a5-45c9-96fb-9106e88ea348",
   "metadata": {},
   "outputs": [
    {
     "name": "stdout",
     "output_type": "stream",
     "text": [
      "\n",
      "                    Got Data Funny Business Data Analyst T-Shirt\n",
      "                   \n",
      "$15.99\n"
     ]
    }
   ],
   "source": [
    "# Connect Website\n",
    "\n",
    "URL = 'https://www.amazon.com/Funny-Data-Systems-Business-Analyst/dp/B07FNW9FGJ/ref=sr_1_8?crid=1II63LL5QEU99&dib=eyJ2IjoiMSJ9.OLxyBNu7yDkwNRuS3s0G7rKld4gd7tKg_mmEsEDZ8Jmn3vYIY3_eKvHCUkfh82yPSqjdXDtwXwxoKJ2F27G6mW70kj-MiKUXFKXUY8KF-39P674pLRAu4Q6OJXv7AUMOo1Qx3DfmqFm-Uesq6QKMNJaqOToJoB0Hxpz6y4eANN7AJnDTTTD3sdrnEbyB6q04mSBX6yw2JpvDSw9itmNdGdfPfViZbrQrxmTI4YG82rSwfpQrsNei1Wfcd3Ia7OUTMAV0szpyEMkNfUVEw3J-zXA4F16qDdoJyZ4ANI53XIc_7f04Q8kQZq51e9e3dDbB49D5Wld55NSuP07uD5iy1QiOjahIIUt3wvz5OXjWMo64Hjk9WxYC2REkuTa_Z21LBGQ7K4JzkOeb02n5MhBqZ2cHnJ8hSMq251OQO9ilMMeUSFeCboLank-N7qLUPGaM.O0X9ydmVDSk1tZtCXIXaLAT52E7pVsMMM20qRCpmXpc&dib_tag=se&keywords=data%2Banalyst%2Btshirt&qid=1734877728&sprefix=data%2Banalyst%2Btshirt%2Caps%2C119&sr=8-8'\n",
    "\n",
    "headers = {\"User-Agent\": \"Mozilla/5.0 (Macintosh; Intel Mac OS X 10_15_7) AppleWebKit/537.36 (KHTML, like Gecko) Chrome/131.0.0.0 Safari/537.36\", \"Accept-Encoding\":\"gzip, deflate\", \"Accept\":\"text/html,application/xhtml+xml,application/xml;q=0.9,*/*;q=0.8\", \"DNT\":\"1\",\"Connection\":\"close\", \"Upgrade-Insecure-Requests\":\"1\"}\n",
    "\n",
    "page = requests.get(URL, headers=headers)\n",
    "\n",
    "soup1 = BeautifulSoup(page.content, \"html.parser\")\n",
    "\n",
    "soup2 = BeautifulSoup(soup1.prettify(), \"html.parser\")\n",
    "\n",
    "title = soup2.find(id='productTitle').get_text()\n",
    "\n",
    "price_symbol = soup2.find(class_='a-price-symbol').get_text(strip=True)\n",
    "price_whole = soup2.find(class_='a-price-whole').get_text(strip=True)\n",
    "price_fraction = soup2.find(class_='a-price-fraction').get_text(strip=True)\n",
    "price = f'{price_symbol}{price_whole}{price_fraction}'\n",
    "\n",
    "\n",
    "print(title)\n",
    "print(price)\n",
    "\n",
    "\n"
   ]
  },
  {
   "cell_type": "code",
   "execution_count": 30,
   "id": "e70e5009-35df-498d-82f4-232c33464c74",
   "metadata": {},
   "outputs": [
    {
     "data": {
      "text/plain": [
       "'15.99'"
      ]
     },
     "execution_count": 30,
     "metadata": {},
     "output_type": "execute_result"
    }
   ],
   "source": [
    "price.strip()[1:]"
   ]
  },
  {
   "cell_type": "code",
   "execution_count": 32,
   "id": "fcd7e4f8-670e-467d-b707-c7758b106976",
   "metadata": {},
   "outputs": [],
   "source": [
    "price = price.strip()[1:]"
   ]
  },
  {
   "cell_type": "code",
   "execution_count": 34,
   "id": "8f142c78-4577-460e-b155-f7ef7ae7b781",
   "metadata": {},
   "outputs": [
    {
     "data": {
      "text/plain": [
       "'Got Data Funny Business Data Analyst T-Shirt'"
      ]
     },
     "execution_count": 34,
     "metadata": {},
     "output_type": "execute_result"
    }
   ],
   "source": [
    "title.strip()"
   ]
  },
  {
   "cell_type": "code",
   "execution_count": 36,
   "id": "c5bc75ec-21de-440e-b707-b62b341cc7b1",
   "metadata": {},
   "outputs": [],
   "source": [
    "title = title.strip()"
   ]
  },
  {
   "cell_type": "code",
   "execution_count": 40,
   "id": "91f372d2-c677-4282-ba4f-daf7c500a1cc",
   "metadata": {},
   "outputs": [
    {
     "name": "stdout",
     "output_type": "stream",
     "text": [
      "Got Data Funny Business Data Analyst T-Shirt\n",
      "15.99\n"
     ]
    },
    {
     "data": {
      "text/plain": [
       "str"
      ]
     },
     "execution_count": 40,
     "metadata": {},
     "output_type": "execute_result"
    }
   ],
   "source": [
    "print(title)\n",
    "print(price)\n",
    "type(price)"
   ]
  },
  {
   "cell_type": "code",
   "execution_count": 44,
   "id": "774b0199-bd38-4c9d-8077-62f3a77dcbbd",
   "metadata": {},
   "outputs": [
    {
     "data": {
      "text/plain": [
       "datetime.date(2024, 12, 22)"
      ]
     },
     "execution_count": 44,
     "metadata": {},
     "output_type": "execute_result"
    }
   ],
   "source": [
    "import datetime\n",
    "\n",
    "datetime.date.today()"
   ]
  },
  {
   "cell_type": "code",
   "execution_count": 46,
   "id": "dae65d75-94ef-4b95-9c53-d5561b086388",
   "metadata": {},
   "outputs": [
    {
     "name": "stdout",
     "output_type": "stream",
     "text": [
      "2024-12-22\n"
     ]
    }
   ],
   "source": [
    "today = datetime.date.today()\n",
    "\n",
    "print(today)"
   ]
  },
  {
   "cell_type": "code",
   "execution_count": 48,
   "id": "4862b834-f284-4f2f-8716-86e5c1098a45",
   "metadata": {},
   "outputs": [],
   "source": [
    "import csv\n",
    "\n",
    "header = ['Title', 'Price', 'Date']\n",
    "data = [title, price, today]\n",
    "\n",
    "with open('AmazonwebscraperDateset.csv', 'w', newline='', encoding='UTF8') as f:\n",
    "    writer = csv.writer(f)\n",
    "    writer.writerow(header)\n",
    "    writer.writerow(data)\n",
    "\n"
   ]
  },
  {
   "cell_type": "code",
   "execution_count": 81,
   "id": "46b584f6-d3bf-4a7e-85d7-3b87ab3e0ed7",
   "metadata": {},
   "outputs": [
    {
     "name": "stdout",
     "output_type": "stream",
     "text": [
      "                                           Title  Price        Date\n",
      "0   Got Data Funny Business Data Analyst T-Shirt  15.99  2024-12-22\n",
      "1   Got Data Funny Business Data Analyst T-Shirt  15.99  2024-12-22\n",
      "2   Got Data Funny Business Data Analyst T-Shirt  15.99  2024-12-22\n",
      "3   Got Data Funny Business Data Analyst T-Shirt  15.99  2024-12-22\n",
      "4   Got Data Funny Business Data Analyst T-Shirt  15.99  2024-12-22\n",
      "5   Got Data Funny Business Data Analyst T-Shirt  15.99  2024-12-22\n",
      "6   Got Data Funny Business Data Analyst T-Shirt  15.99  2024-12-22\n",
      "7   Got Data Funny Business Data Analyst T-Shirt  15.99  2024-12-22\n",
      "8   Got Data Funny Business Data Analyst T-Shirt  15.99  2024-12-22\n",
      "9   Got Data Funny Business Data Analyst T-Shirt  15.99  2024-12-22\n",
      "10  Got Data Funny Business Data Analyst T-Shirt  15.99  2024-12-22\n",
      "11  Got Data Funny Business Data Analyst T-Shirt  15.99  2024-12-22\n",
      "12  Got Data Funny Business Data Analyst T-Shirt  15.99  2024-12-22\n",
      "13  Got Data Funny Business Data Analyst T-Shirt  15.99  2024-12-22\n",
      "14  Got Data Funny Business Data Analyst T-Shirt  15.99  2024-12-22\n"
     ]
    }
   ],
   "source": [
    "import pandas as pd\n",
    "\n",
    "df = pd.read_csv('/Users/samsfahsel/AmazonwebscraperDateset.csv')\n",
    "\n",
    "print(df)"
   ]
  },
  {
   "cell_type": "code",
   "execution_count": null,
   "id": "52aee675-6c74-45f1-9f9d-27676a6bd103",
   "metadata": {},
   "outputs": [],
   "source": [
    "# appending data\n",
    "\n",
    "with open('AmazonwebscraperDateset.csv','a+', 'w', newline='', encoding='UTF8') as f:\n",
    "    writer = csv.writer(f)\n",
    "    writer.writerow(data)"
   ]
  },
  {
   "cell_type": "code",
   "execution_count": 70,
   "id": "240080a8-0b0e-4a5b-b6c6-c8c14189f197",
   "metadata": {},
   "outputs": [],
   "source": [
    "def check_price():\n",
    "    URL = 'https://www.amazon.com/Funny-Data-Systems-Business-Analyst/dp/B07FNW9FGJ/ref=sr_1_8?crid=1II63LL5QEU99&dib=eyJ2IjoiMSJ9.OLxyBNu7yDkwNRuS3s0G7rKld4gd7tKg_mmEsEDZ8Jmn3vYIY3_eKvHCUkfh82yPSqjdXDtwXwxoKJ2F27G6mW70kj-MiKUXFKXUY8KF-39P674pLRAu4Q6OJXv7AUMOo1Qx3DfmqFm-Uesq6QKMNJaqOToJoB0Hxpz6y4eANN7AJnDTTTD3sdrnEbyB6q04mSBX6yw2JpvDSw9itmNdGdfPfViZbrQrxmTI4YG82rSwfpQrsNei1Wfcd3Ia7OUTMAV0szpyEMkNfUVEw3J-zXA4F16qDdoJyZ4ANI53XIc_7f04Q8kQZq51e9e3dDbB49D5Wld55NSuP07uD5iy1QiOjahIIUt3wvz5OXjWMo64Hjk9WxYC2REkuTa_Z21LBGQ7K4JzkOeb02n5MhBqZ2cHnJ8hSMq251OQO9ilMMeUSFeCboLank-N7qLUPGaM.O0X9ydmVDSk1tZtCXIXaLAT52E7pVsMMM20qRCpmXpc&dib_tag=se&keywords=data%2Banalyst%2Btshirt&qid=1734877728&sprefix=data%2Banalyst%2Btshirt%2Caps%2C119&sr=8-8'\n",
    "\n",
    "    headers = {\"User-Agent\": \"Mozilla/5.0 (Macintosh; Intel Mac OS X 10_15_7) AppleWebKit/537.36 (KHTML, like Gecko) Chrome/131.0.0.0 Safari/537.36\", \"Accept-Encoding\":\"gzip, deflate\", \"Accept\":\"text/html,application/xhtml+xml,application/xml;q=0.9,*/*;q=0.8\", \"DNT\":\"1\",\"Connection\":\"close\", \"Upgrade-Insecure-Requests\":\"1\"}\n",
    "\n",
    "    page = requests.get(URL, headers=headers)\n",
    "\n",
    "    soup1 = BeautifulSoup(page.content, \"html.parser\")\n",
    "\n",
    "    soup2 = BeautifulSoup(soup1.prettify(), \"html.parser\")\n",
    "\n",
    "    title = soup2.find(id='productTitle').get_text()\n",
    "\n",
    "    price_symbol = soup2.find(class_='a-price-symbol').get_text(strip=True)\n",
    "    price_whole = soup2.find(class_='a-price-whole').get_text(strip=True)\n",
    "    price_fraction = soup2.find(class_='a-price-fraction').get_text(strip=True)\n",
    "    price = f'{price_symbol}{price_whole}{price_fraction}'\n",
    "\n",
    "\n",
    "    print(title)\n",
    "    print(price)\n",
    "\n",
    "    price = price.strip()[1:]\n",
    "    title = title.strip()\n",
    "\n",
    "    import datetime\n",
    "    today = datetime.date.today()\n",
    "\n",
    "    import csv\n",
    "\n",
    "    header = ['Title', 'Price', 'Date']\n",
    "    data = [title, price, today]\n",
    "\n",
    "    with open('AmazonwebscraperDateset.csv','a+', newline='', encoding='UTF8') as f:\n",
    "        writer = csv.writer(f)\n",
    "        writer.writerow(data)"
   ]
  },
  {
   "cell_type": "code",
   "execution_count": 78,
   "id": "78ea957d-16e4-4068-a47e-dff704aa83ef",
   "metadata": {},
   "outputs": [
    {
     "name": "stdout",
     "output_type": "stream",
     "text": [
      "\n",
      "                    Got Data Funny Business Data Analyst T-Shirt\n",
      "                   \n",
      "$15.99\n"
     ]
    },
    {
     "ename": "KeyboardInterrupt",
     "evalue": "",
     "output_type": "error",
     "traceback": [
      "\u001b[0;31m---------------------------------------------------------------------------\u001b[0m",
      "\u001b[0;31mKeyboardInterrupt\u001b[0m                         Traceback (most recent call last)",
      "Cell \u001b[0;32mIn[78], line 3\u001b[0m\n\u001b[1;32m      1\u001b[0m \u001b[38;5;28;01mwhile\u001b[39;00m(\u001b[38;5;28;01mTrue\u001b[39;00m):\n\u001b[1;32m      2\u001b[0m     check_price()\n\u001b[0;32m----> 3\u001b[0m     time\u001b[38;5;241m.\u001b[39msleep(\u001b[38;5;241m86400\u001b[39m)\n",
      "\u001b[0;31mKeyboardInterrupt\u001b[0m: "
     ]
    }
   ],
   "source": [
    "while(True):\n",
    "    check_price()\n",
    "    time.sleep(86400)"
   ]
  },
  {
   "cell_type": "code",
   "execution_count": 85,
   "id": "1ae38159-79d0-4d5d-8d47-eaafd2e4f9a8",
   "metadata": {},
   "outputs": [
    {
     "name": "stdout",
     "output_type": "stream",
     "text": [
      "                                           Title  Price        Date\n",
      "0   Got Data Funny Business Data Analyst T-Shirt  15.99  2024-12-22\n",
      "1   Got Data Funny Business Data Analyst T-Shirt  15.99  2024-12-22\n",
      "2   Got Data Funny Business Data Analyst T-Shirt  15.99  2024-12-22\n",
      "3   Got Data Funny Business Data Analyst T-Shirt  15.99  2024-12-22\n",
      "4   Got Data Funny Business Data Analyst T-Shirt  15.99  2024-12-22\n",
      "5   Got Data Funny Business Data Analyst T-Shirt  15.99  2024-12-22\n",
      "6   Got Data Funny Business Data Analyst T-Shirt  15.99  2024-12-22\n",
      "7   Got Data Funny Business Data Analyst T-Shirt  15.99  2024-12-22\n",
      "8   Got Data Funny Business Data Analyst T-Shirt  15.99  2024-12-22\n",
      "9   Got Data Funny Business Data Analyst T-Shirt  15.99  2024-12-22\n",
      "10  Got Data Funny Business Data Analyst T-Shirt  15.99  2024-12-22\n",
      "11  Got Data Funny Business Data Analyst T-Shirt  15.99  2024-12-22\n",
      "12  Got Data Funny Business Data Analyst T-Shirt  15.99  2024-12-22\n",
      "13  Got Data Funny Business Data Analyst T-Shirt  15.99  2024-12-22\n",
      "14  Got Data Funny Business Data Analyst T-Shirt  15.99  2024-12-22\n"
     ]
    }
   ],
   "source": [
    "import pandas as pd\n",
    "\n",
    "df = pd.read_csv('/Users/samsfahsel/AmazonwebscraperDateset.csv')\n",
    "\n",
    "print(df)"
   ]
  },
  {
   "cell_type": "code",
   "execution_count": null,
   "id": "dd9d93c7-d64b-4ace-9551-2aa6b2e1fc90",
   "metadata": {},
   "outputs": [],
   "source": []
  },
  {
   "cell_type": "code",
   "execution_count": null,
   "id": "d348836a-be49-45d0-88f2-9c618d46b896",
   "metadata": {},
   "outputs": [],
   "source": []
  },
  {
   "cell_type": "code",
   "execution_count": null,
   "id": "1e19eda3-6307-4778-8857-8bf4aa97321e",
   "metadata": {},
   "outputs": [],
   "source": []
  },
  {
   "cell_type": "code",
   "execution_count": null,
   "id": "3b34aa29-a8a5-4595-ac19-aae487477630",
   "metadata": {},
   "outputs": [],
   "source": []
  },
  {
   "cell_type": "code",
   "execution_count": null,
   "id": "a91b50f0-235d-4ec2-81f5-a0bfab63a547",
   "metadata": {},
   "outputs": [],
   "source": []
  },
  {
   "cell_type": "code",
   "execution_count": null,
   "id": "712878f2-9b8b-4e3a-9fc4-0aa4eb2ef591",
   "metadata": {},
   "outputs": [],
   "source": []
  },
  {
   "cell_type": "code",
   "execution_count": null,
   "id": "defc99b4-d27a-451b-b6e7-ace50da557d9",
   "metadata": {},
   "outputs": [],
   "source": []
  },
  {
   "cell_type": "code",
   "execution_count": null,
   "id": "8b349ba0-a61c-4230-9b18-b2299ac3934e",
   "metadata": {},
   "outputs": [],
   "source": []
  },
  {
   "cell_type": "code",
   "execution_count": null,
   "id": "22b3eccf-a1cb-4014-8142-039535534bd3",
   "metadata": {},
   "outputs": [],
   "source": []
  },
  {
   "cell_type": "code",
   "execution_count": null,
   "id": "3e444a39-a608-4093-aea9-ff1650b231c7",
   "metadata": {},
   "outputs": [],
   "source": []
  }
 ],
 "metadata": {
  "kernelspec": {
   "display_name": "Python [conda env:base] *",
   "language": "python",
   "name": "conda-base-py"
  },
  "language_info": {
   "codemirror_mode": {
    "name": "ipython",
    "version": 3
   },
   "file_extension": ".py",
   "mimetype": "text/x-python",
   "name": "python",
   "nbconvert_exporter": "python",
   "pygments_lexer": "ipython3",
   "version": "3.12.7"
  }
 },
 "nbformat": 4,
 "nbformat_minor": 5
}
